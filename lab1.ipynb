{
  "nbformat": 4,
  "nbformat_minor": 0,
  "metadata": {
    "colab": {
      "provenance": [],
      "authorship_tag": "ABX9TyOx7rm5Tql+x7V6Sg5wwLhf",
      "include_colab_link": true
    },
    "kernelspec": {
      "name": "python3",
      "display_name": "Python 3"
    },
    "language_info": {
      "name": "python"
    }
  },
  "cells": [
    {
      "cell_type": "markdown",
      "metadata": {
        "id": "view-in-github",
        "colab_type": "text"
      },
      "source": [
        "<a href=\"https://colab.research.google.com/github/GGGoradia/Machine-learning-lab/blob/main/lab1.ipynb\" target=\"_parent\"><img src=\"https://colab.research.google.com/assets/colab-badge.svg\" alt=\"Open In Colab\"/></a>"
      ]
    },
    {
      "cell_type": "code",
      "execution_count": null,
      "metadata": {
        "id": "XILJeWe3xS-v"
      },
      "outputs": [],
      "source": [
        "import numpy as np"
      ]
    },
    {
      "cell_type": "code",
      "source": [
        "a1=np.array([1,2,3,4])\n",
        "print(a1)"
      ],
      "metadata": {
        "id": "2qPgPgaix_17",
        "outputId": "9dfb33fd-14df-447a-aff6-8f4fedc06dde",
        "colab": {
          "base_uri": "https://localhost:8080/"
        }
      },
      "execution_count": null,
      "outputs": [
        {
          "output_type": "stream",
          "name": "stdout",
          "text": [
            "[1 2 3 4]\n"
          ]
        }
      ]
    },
    {
      "cell_type": "code",
      "source": [
        "arr1=np.arange(1,10)\n",
        "print(arr1)"
      ],
      "metadata": {
        "id": "Nl47f2umyK4F",
        "outputId": "9e02a9fd-8abb-4424-c561-6083fed0cd00",
        "colab": {
          "base_uri": "https://localhost:8080/"
        }
      },
      "execution_count": null,
      "outputs": [
        {
          "output_type": "stream",
          "name": "stdout",
          "text": [
            "[1 2 3 4 5 6 7 8 9]\n"
          ]
        }
      ]
    },
    {
      "cell_type": "code",
      "source": [
        "arr2=np.arange(1,10,2)\n",
        "print(arr2)"
      ],
      "metadata": {
        "id": "hRcjmIO_y3Fo",
        "outputId": "581cc617-32e7-4111-b647-f9c437f9ccb3",
        "colab": {
          "base_uri": "https://localhost:8080/"
        }
      },
      "execution_count": null,
      "outputs": [
        {
          "output_type": "stream",
          "name": "stdout",
          "text": [
            "[1 3 5 7 9]\n"
          ]
        }
      ]
    },
    {
      "cell_type": "code",
      "source": [
        "#1\n",
        "arr2d=np.array([[18,21,3,6],[5,1,0,11],[0,7,0,33]])\n",
        "print(arr2d)"
      ],
      "metadata": {
        "colab": {
          "base_uri": "https://localhost:8080/"
        },
        "id": "yTOqJtXy7v6t",
        "outputId": "a13d2f06-70d0-4744-b741-82b72ec8f390"
      },
      "execution_count": 40,
      "outputs": [
        {
          "output_type": "stream",
          "name": "stdout",
          "text": [
            "[[18 21  3  6]\n",
            " [ 5  1  0 11]\n",
            " [ 0  7  0 33]]\n"
          ]
        }
      ]
    },
    {
      "cell_type": "code",
      "source": [
        "#1a\n",
        "index=np.where(arr2d==0)\n",
        "print(index)"
      ],
      "metadata": {
        "colab": {
          "base_uri": "https://localhost:8080/"
        },
        "id": "ST3DXJem7pyn",
        "outputId": "1ffb3343-ebcb-4732-da5e-6add15ac3c8f"
      },
      "execution_count": 41,
      "outputs": [
        {
          "output_type": "stream",
          "name": "stdout",
          "text": [
            "(array([1, 2, 2]), array([2, 0, 2]))\n"
          ]
        }
      ]
    },
    {
      "cell_type": "code",
      "source": [
        "#1b\n",
        "tra=arr2d.transpose()\n",
        "print(tra)\n",
        "print(\"\")\n",
        "print(arr2d[1])"
      ],
      "metadata": {
        "colab": {
          "base_uri": "https://localhost:8080/"
        },
        "id": "VEqot2R88PAa",
        "outputId": "ce7ceb77-7d43-4c9a-ea85-e1d98c1a629c"
      },
      "execution_count": 44,
      "outputs": [
        {
          "output_type": "stream",
          "name": "stdout",
          "text": [
            "[[18  5  0]\n",
            " [21  1  7]\n",
            " [ 3  0  0]\n",
            " [ 6 11 33]]\n",
            "\n",
            "[ 5  1  0 11]\n"
          ]
        }
      ]
    },
    {
      "cell_type": "code",
      "source": [
        "#1c\n",
        "flat=arr2d.flatten()\n",
        "print(flat)"
      ],
      "metadata": {
        "colab": {
          "base_uri": "https://localhost:8080/"
        },
        "id": "xbPROiHp8RsD",
        "outputId": "87718593-c51c-408f-b113-4969d6feb1de"
      },
      "execution_count": 46,
      "outputs": [
        {
          "output_type": "stream",
          "name": "stdout",
          "text": [
            "[18 21  3  6  5  1  0 11  0  7  0 33]\n"
          ]
        }
      ]
    },
    {
      "cell_type": "code",
      "source": [
        "np.savetxt(\"mat.txt\",arr2d)"
      ],
      "metadata": {
        "id": "hstv0AKE8gQq"
      },
      "execution_count": 49,
      "outputs": []
    },
    {
      "cell_type": "code",
      "source": [
        "#2\n",
        "arr2=np.loadtxt(\"Mark.txt\",skiprows=1)\n",
        "print(arr2)"
      ],
      "metadata": {
        "colab": {
          "base_uri": "https://localhost:8080/"
        },
        "id": "yvvYOMhY8r6i",
        "outputId": "8f566f08-cc66-4ce0-e423-019ff47cdaba"
      },
      "execution_count": 53,
      "outputs": [
        {
          "output_type": "stream",
          "name": "stdout",
          "text": [
            "[[60. 66. 70.]\n",
            " [99. 78. 88.]\n",
            " [55. 61. 54.]\n",
            " [84. 81. 73.]\n",
            " [55. 54. 53.]\n",
            " [77. 72. 79.]\n",
            " [80. 80. 80.]\n",
            " [90. 95. 93.]]\n"
          ]
        }
      ]
    },
    {
      "cell_type": "code",
      "source": [],
      "metadata": {
        "id": "xpwOccix90cr"
      },
      "execution_count": null,
      "outputs": []
    }
  ]
}