{
  "nbformat": 4,
  "nbformat_minor": 0,
  "metadata": {
    "colab": {
      "provenance": [],
      "authorship_tag": "ABX9TyOHYn2FYwFPyW0XAdPitKnc",
      "include_colab_link": true
    },
    "kernelspec": {
      "name": "python3",
      "display_name": "Python 3"
    },
    "language_info": {
      "name": "python"
    }
  },
  "cells": [
    {
      "cell_type": "markdown",
      "metadata": {
        "id": "view-in-github",
        "colab_type": "text"
      },
      "source": [
        "<a href=\"https://colab.research.google.com/github/GGGoradia/Machine-learning-lab/blob/main/lab2.ipynb\" target=\"_parent\"><img src=\"https://colab.research.google.com/assets/colab-badge.svg\" alt=\"Open In Colab\"/></a>"
      ]
    },
    {
      "cell_type": "code",
      "execution_count": 1,
      "metadata": {
        "id": "T9RovWfueMpa"
      },
      "outputs": [],
      "source": [
        "import numpy as np\n",
        "import pandas as pd\n",
        "import matplotlib.pyplot as plt"
      ]
    },
    {
      "cell_type": "code",
      "source": [
        "#q1 a\n",
        "df=pd.read_csv(\"Machine.csv\")\n",
        "var=list(df.columns)\n",
        "print(var)"
      ],
      "metadata": {
        "colab": {
          "base_uri": "https://localhost:8080/"
        },
        "id": "nCiEaF8AecN5",
        "outputId": "3d72252e-ccb5-40ad-cd7c-73598d988977"
      },
      "execution_count": 2,
      "outputs": [
        {
          "output_type": "stream",
          "name": "stdout",
          "text": [
            "['Operating_hours', 'Output']\n"
          ]
        }
      ]
    },
    {
      "cell_type": "code",
      "source": [
        "#q1 b\n",
        "plt.scatter(df[var[0]],df[var[1]])\n",
        "plt.show()"
      ],
      "metadata": {
        "colab": {
          "base_uri": "https://localhost:8080/",
          "height": 430
        },
        "id": "bNzU-FB6fhO8",
        "outputId": "3d35bdad-a482-4cce-80f0-09392e4d5860"
      },
      "execution_count": 5,
      "outputs": [
        {
          "output_type": "display_data",
          "data": {
            "text/plain": [
              "<Figure size 640x480 with 1 Axes>"
            ],
            "image/png": "[encoded data removed]"
          },
          "metadata": {}
        }
      ]
    },
    {
      "cell_type": "code",
      "source": [
        "#q1 c\n",
        "def gradient(X,y,learningrate=0.01,epochs=2):\n",
        "    X=np.c_[np.ones((X.shape[0],1)),X]\n",
        "    m,n=X.shape\n",
        "    theta=np.zeros(n)\n",
        "    for epoch in range(epochs):\n",
        "        predictions=X.dot(theta)#matrix multiplication X and theta\n",
        "        error=predictions-y\n",
        "        gradient=1/m*X.T.dot(error)#1/m multiplied by matrix multiplication of X transpose and theta\n",
        "        theta=theta-learningrate*gradient\n",
        "        mse=(1/m)*np.sum(error**2)#meansquared error\n",
        "        print(f\"epoch{epoch+1}/{epochs},MSE: {mse}\")\n",
        "    return theta\n",
        "X=df['Operating_hours']\n",
        "y=df['Output']\n",
        "theta=gradient(X,y)\n",
        "print(\"regression parameters\",theta)\n",
        "inputhours=np.array([1,13]).reshape(1,-1)\n",
        "print('predicted output ',inputhours.dot(theta))\n",
        "def modelerror(X,y,theta):\n",
        "  X=np.c_[np.ones((X.shape[0],1)),X]#adds 1 to each row as the first element\n",
        "  predictions=X.dot(theta)\n",
        "  mse=(1/len(y))*np.sum((predictions-y)**2)#meansquared error after the prediction has been made\n",
        "  return mse\n",
        "error=modelerror(X,y,theta)\n",
        "print(\"model error\",error)"
      ],
      "metadata": {
        "colab": {
          "base_uri": "https://localhost:8080/"
        },
        "id": "MNKtvQZ1fvJl",
        "outputId": "1953c983-19af-494b-cbd5-3214a5f43230"
      },
      "execution_count": 14,
      "outputs": [
        {
          "output_type": "stream",
          "name": "stdout",
          "text": [
            "epoch1/2,MSE: 118.375\n",
            "epoch2/2,MSE: 6.274273828124999\n",
            "regression parameters [0.0931     1.01672812]\n",
            "predicted output  [13.31056562]\n",
            "model error 5.72050677576416\n"
          ]
        }
      ]
    },
    {
      "cell_type": "code",
      "source": [
        "#q1 d\n",
        "theta=gradient(X,y,epochs=5)\n",
        "print(theta)"
      ],
      "metadata": {
        "colab": {
          "base_uri": "https://localhost:8080/"
        },
        "id": "BFvMylPUkuEN",
        "outputId": "327075d1-a6d7-4713-a282-39512b067def"
      },
      "execution_count": 15,
      "outputs": [
        {
          "output_type": "stream",
          "name": "stdout",
          "text": [
            "epoch1/5,MSE: 118.375\n",
            "epoch2/5,MSE: 6.274273828124999\n",
            "epoch3/5,MSE: 5.72050677576416\n",
            "epoch4/5,MSE: 5.715526784712311\n",
            "epoch5/5,MSE: 5.713257287255299\n",
            "[0.10357301 1.02090657]\n"
          ]
        }
      ]
    },
    {
      "cell_type": "code",
      "source": [
        "from sklearn.linear_model import LinearRegression\n",
        "from sklearn.metrics import mean_squared_error"
      ],
      "metadata": {
        "id": "qBIUpC9Dl_Q0"
      },
      "execution_count": 17,
      "outputs": []
    },
    {
      "cell_type": "code",
      "source": [
        "#q2\n"
      ],
      "metadata": {
        "id": "2a4jhdzxugB-"
      },
      "execution_count": null,
      "outputs": []
    }
  ]
}