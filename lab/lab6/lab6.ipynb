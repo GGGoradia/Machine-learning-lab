{
 "cells": [
  {
   "cell_type": "code",
   "execution_count": 2,
   "metadata": {},
   "outputs": [],
   "source": [
    "import numpy as np\n",
    "import pandas as pd"
   ]
  },
  {
   "cell_type": "code",
   "execution_count": 13,
   "metadata": {},
   "outputs": [
    {
     "name": "stdout",
     "output_type": "stream",
     "text": [
      "weights and bias for and gate are: [0.4 0.4] 0.19999999999999973\n",
      "weights and bias for xor gate are: [0.4 0.4] 0.2999999999999998\n"
     ]
    }
   ],
   "source": [
    "#1A ANd and XOR gate using own code for perceptron\n",
    "def stepfunc(x):\n",
    "    return 1 if x>=0 else 0\n",
    "\n",
    "def perceptron(x,y,lr=0.01,epochs=10):\n",
    "    weights=np.array([0.5,0.5])\n",
    "    bias=0.5\n",
    "    for i in range (epochs):\n",
    "        for j in range(len(x)):\n",
    "            ws=np.dot(weights,x[j])+bias\n",
    "            ypred=stepfunc(ws)\n",
    "            error=y[j]-ypred\n",
    "\n",
    "            weights+=lr*error*x[j]\n",
    "            bias+=lr*error\n",
    "    return weights,bias\n",
    "xand=np.array([[0,0],[0,1],[1,0],[1,1]])\n",
    "yand=np.array([0,0,0,1])\n",
    "\n",
    "weightsand,biasand=perceptron(xand,yand,lr=0.01,epochs=10)\n",
    "print(\"weights and bias for and gate are:\",weightsand,biasand)\n",
    "\n",
    "xxor=np.array([[0,0],[0,1],[1,0],[1,1]])\n",
    "yxor=np.array([0,1,1,0])\n",
    "\n",
    "weightsxor,biasxor=perceptron(xxor,yxor,lr=0.01,epochs=10)\n",
    "print(\"weights and bias for xor gate are:\",weightsxor,biasxor)\n",
    "\n"
   ]
  },
  {
   "cell_type": "code",
   "execution_count": null,
   "metadata": {},
   "outputs": [],
   "source": [
    "\n"
   ]
  },
  {
   "cell_type": "code",
   "execution_count": null,
   "metadata": {},
   "outputs": [],
   "source": []
  }
 ],
 "metadata": {
  "kernelspec": {
   "display_name": "Python 3",
   "language": "python",
   "name": "python3"
  },
  "language_info": {
   "codemirror_mode": {
    "name": "ipython",
    "version": 3
   },
   "file_extension": ".py",
   "mimetype": "text/x-python",
   "name": "python",
   "nbconvert_exporter": "python",
   "pygments_lexer": "ipython3",
   "version": "3.12.1"
  }
 },
 "nbformat": 4,
 "nbformat_minor": 2
}
