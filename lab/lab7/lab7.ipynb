{
 "cells": [
  {
   "cell_type": "code",
   "execution_count": 3,
   "metadata": {},
   "outputs": [
    {
     "name": "stdout",
     "output_type": "stream",
     "text": [
      "  day   outlook  temp humidity    wind play\n",
      "0  D1     Sunny   Hot     High    Weak   No\n",
      "1  D2     Sunny   Hot     High  Strong   No\n",
      "2  D3  Overcast   Hot     High    Weak  Yes\n",
      "3  D4      Rain  Mild     High    Weak  Yes\n",
      "4  D5      Rain  Cool   Normal    Weak  Yes\n",
      "Prior Probability of 'Yes': 0.6428571428571429\n",
      "Prior Probability of 'No': 0.35714285714285715\n",
      "Likelihood for 'Yes': 0.012345679012345678\n",
      "Likelihood for 'No': 0.03840000000000001\n",
      "Class conditional probability for 'Yes': 0.007936507936507936\n",
      "Class conditional probability for 'No': 0.013714285714285719\n",
      "Predicted Class: No\n"
     ]
    }
   ],
   "source": [
    "#1a\n",
    "import pandas as pd\n",
    "import numpy as np\n",
    "df = pd.read_csv('play.csv')\n",
    "print(df.head())\n",
    "total_samples = len(df)\n",
    "play_yes = len(df[df['play'] == 'Yes'])\n",
    "play_no = len(df[df['play'] == 'No'])\n",
    "\n",
    "P_yes = play_yes / total_samples\n",
    "P_no = play_no / total_samples\n",
    "print(f\"Prior Probability of 'Yes': {P_yes}\")\n",
    "print(f\"Prior Probability of 'No': {P_no}\")\n",
    "def calculate_likelihood(feature, feature_value, target_value):\n",
    "    subset = df[df['play'] == target_value]\n",
    "    feature_count = len(subset[subset[feature] == feature_value])\n",
    "    total_count = len(subset)\n",
    "    return feature_count / total_count\n",
    "test_sample = ['Rain', 'Cool', 'High', 'Strong']\n",
    "\n",
    "likelihood_yes = 1\n",
    "likelihood_no = 1\n",
    "\n",
    "features = ['outlook', 'temp', 'humidity', 'wind']\n",
    "for feature, value in zip(features, test_sample):\n",
    "    likelihood_yes *= calculate_likelihood(feature, value, 'Yes')\n",
    "    likelihood_no *= calculate_likelihood(feature, value, 'No')\n",
    "\n",
    "print(f\"Likelihood for 'Yes': {likelihood_yes}\")\n",
    "print(f\"Likelihood for 'No': {likelihood_no}\")\n",
    "P_yes_given_x = P_yes * likelihood_yes\n",
    "P_no_given_x = P_no * likelihood_no\n",
    "\n",
    "print(f\"Class conditional probability for 'Yes': {P_yes_given_x}\")\n",
    "print(f\"Class conditional probability for 'No': {P_no_given_x}\")\n",
    "if P_yes_given_x > P_no_given_x:\n",
    "    print(\"Predicted Class: Yes\")\n",
    "else:\n",
    "    print(\"Predicted Class: No\")\n"
   ]
  },
  {
   "cell_type": "code",
   "execution_count": 4,
   "metadata": {},
   "outputs": [
    {
     "name": "stdout",
     "output_type": "stream",
     "text": [
      "no\n"
     ]
    },
    {
     "name": "stderr",
     "output_type": "stream",
     "text": [
      "c:\\Users\\devgo\\AppData\\Local\\Programs\\Python\\Python312\\Lib\\site-packages\\sklearn\\utils\\validation.py:2739: UserWarning: X does not have valid feature names, but CategoricalNB was fitted with feature names\n",
      "  warnings.warn(\n"
     ]
    }
   ],
   "source": [
    "#1b\n",
    "import pandas as pd\n",
    "from sklearn.naive_bayes import CategoricalNB\n",
    "from sklearn.preprocessing import LabelEncoder\n",
    "from sklearn.model_selection import train_test_split\n",
    "df = pd.read_csv('play.csv')\n",
    "encoders={}\n",
    "for i in df.columns:\n",
    "    encoder = LabelEncoder()\n",
    "    if df[i].dtype=='object':\n",
    "        df[i]=encoder.fit_transform(df[i])\n",
    "    encoders[i]=encoder\n",
    "X = df[['outlook', 'temp', 'humidity', 'wind']]\n",
    "y = df['play']\n",
    "model = CategoricalNB()\n",
    "model.fit(X, y)\n",
    "test_sample = ['Rain', 'Cool', 'High', 'Strong']\n",
    "encoded_test_sample = [[encoders[col].transform([val])[0] for col, val in zip(X.columns, test_sample)]]\n",
    "\n",
    "model=CategoricalNB()\n",
    "model.fit(X,y)\n",
    "pred=model.predict(encoded_test_sample)\n",
    "if (pred==1):\n",
    "    print('yes')\n",
    "else:\n",
    "    print('no')"
   ]
  },
  {
   "cell_type": "code",
   "execution_count": 5,
   "metadata": {},
   "outputs": [
    {
     "name": "stdout",
     "output_type": "stream",
     "text": [
      "day:0.9402859586706311\n",
      "outlook:0.24674981977443933\n",
      "temp:0.02922256565895487\n",
      "humidity:0.15183550136234159\n",
      "wind:0.04812703040826949\n"
     ]
    }
   ],
   "source": [
    "#2a\n",
    "from collections import Counter\n",
    "def entropy(y):\n",
    "    total = len(y)\n",
    "    counts = Counter(y)\n",
    "    return -sum((count / total) * np.log2(count / total) for count in counts.values())\n",
    "target_entropy=entropy(df['play'])\n",
    "infogains={}\n",
    "for feature in df.columns[:-1]:\n",
    "    feature_entropy=0\n",
    "    for value in np.unique(df[feature]):\n",
    "        subset = df[df[feature] == value]['play']\n",
    "        subset_entropy = entropy(subset)\n",
    "        weight = len(subset) / len(df)\n",
    "        feature_entropy += weight * subset_entropy\n",
    "    infogains[feature] = target_entropy - feature_entropy\n",
    "\n",
    "for feature,ig in infogains.items():\n",
    "    print(f\"{feature}:{ig}\")"
   ]
  },
  {
   "cell_type": "code",
   "execution_count": 6,
   "metadata": {},
   "outputs": [
    {
     "name": "stdout",
     "output_type": "stream",
     "text": [
      "day\n"
     ]
    }
   ],
   "source": [
    "#2b\n",
    "rootnode=max(infogains,key=infogains.get)\n",
    "print(rootnode)"
   ]
  },
  {
   "cell_type": "code",
   "execution_count": 7,
   "metadata": {},
   "outputs": [
    {
     "name": "stdout",
     "output_type": "stream",
     "text": [
      "['No']\n",
      "digraph Tree {\n",
      "node [shape=box, fontname=\"helvetica\"] ;\n",
      "edge [fontname=\"helvetica\"] ;\n",
      "0 [label=\"x[0] <= 0.5\\nentropy = 0.94\\nsamples = 14\\nvalue = [5, 9]\"] ;\n",
      "1 [label=\"entropy = 0.0\\nsamples = 4\\nvalue = [0, 4]\"] ;\n",
      "0 -> 1 [labeldistance=2.5, labelangle=45, headlabel=\"True\"] ;\n",
      "2 [label=\"x[2] <= 0.5\\nentropy = 1.0\\nsamples = 10\\nvalue = [5, 5]\"] ;\n",
      "0 -> 2 [labeldistance=2.5, labelangle=-45, headlabel=\"False\"] ;\n",
      "3 [label=\"entropy = 0.722\\nsamples = 5\\nvalue = [4, 1]\"] ;\n",
      "2 -> 3 ;\n",
      "4 [label=\"entropy = 0.722\\nsamples = 5\\nvalue = [1, 4]\"] ;\n",
      "2 -> 4 ;\n",
      "}\n",
      "\n"
     ]
    },
    {
     "name": "stderr",
     "output_type": "stream",
     "text": [
      "c:\\Users\\devgo\\AppData\\Local\\Programs\\Python\\Python312\\Lib\\site-packages\\sklearn\\utils\\validation.py:2739: UserWarning: X does not have valid feature names, but DecisionTreeClassifier was fitted with feature names\n",
      "  warnings.warn(\n"
     ]
    }
   ],
   "source": [
    "#2c\n",
    "#(a)\n",
    "from sklearn.tree import DecisionTreeClassifier\n",
    "from graphviz import Source\n",
    "from sklearn import tree\n",
    "model=DecisionTreeClassifier(criterion=\"entropy\",max_depth=2,random_state=42)\n",
    "model.fit(X,y)\n",
    "tst=['Rain','Cool','High','Weak']\n",
    "testenc= [[encoders[col].transform([val])[0] for col, val in zip(X.columns, tst)]]\n",
    "#(b)\n",
    "pred=model.predict(testenc)\n",
    "decpred=encoders['play'].inverse_transform(pred)\n",
    "print(decpred)\n",
    "#(c)\n",
    "graph = Source(tree.export_graphviz(model, out_file = None))\n",
    "print(graph)"
   ]
  },
  {
   "cell_type": "code",
   "execution_count": 8,
   "metadata": {},
   "outputs": [
    {
     "name": "stdout",
     "output_type": "stream",
     "text": [
      "outlook\n"
     ]
    }
   ],
   "source": [
    "#2d\n",
    "rootind=model.tree_.feature[0]\n",
    "root=X.columns[rootind]\n",
    "print(root)"
   ]
  },
  {
   "cell_type": "code",
   "execution_count": 9,
   "metadata": {},
   "outputs": [
    {
     "name": "stdout",
     "output_type": "stream",
     "text": [
      "0.7662337662337663\n",
      "0.7467532467532467\n"
     ]
    }
   ],
   "source": [
    "#3a\n",
    "from sklearn.preprocessing import StandardScaler\n",
    "from sklearn.naive_bayes import GaussianNB\n",
    "from sklearn.metrics import accuracy_score\n",
    "diabetes = pd.read_csv(\"diabetes.csv\")\n",
    "X_diabetes = diabetes.iloc[:, :-1]\n",
    "y_diabetes = diabetes.iloc[:, -1]\n",
    "X_train_d, X_test_d, y_train_d, y_test_d = train_test_split(X_diabetes, y_diabetes, test_size=0.2, random_state=42)\n",
    "\n",
    "scaler = StandardScaler()\n",
    "X_train_d = scaler.fit_transform(X_train_d)\n",
    "X_test_d = scaler.transform(X_test_d)\n",
    "\n",
    "nb_diabetes = GaussianNB()\n",
    "nb_diabetes.fit(X_train_d, y_train_d)\n",
    "y_pred_nb_d = nb_diabetes.predict(X_test_d)\n",
    "print(accuracy_score(y_test_d,y_pred_nb_d))\n",
    "\n",
    "dt_diabetes = DecisionTreeClassifier(random_state=42)\n",
    "dt_diabetes.fit(X_train_d, y_train_d)\n",
    "y_pred_dt_d = dt_diabetes.predict(X_test_d)\n",
    "print(accuracy_score(y_test_d,y_pred_dt_d))"
   ]
  },
  {
   "cell_type": "code",
   "execution_count": 10,
   "metadata": {},
   "outputs": [
    {
     "name": "stdout",
     "output_type": "stream",
     "text": [
      "0.2\n",
      "0.2\n"
     ]
    }
   ],
   "source": [
    "#3b\n",
    "from sklearn.datasets import load_iris\n",
    "i=load_iris()\n",
    "iris=pd.DataFrame(i.data, columns=i.feature_names)\n",
    "X_iris = iris.iloc[:, :-1]\n",
    "y_iris = iris.iloc[:, -1]\n",
    "\n",
    "label_encoder = LabelEncoder()\n",
    "y_iris = label_encoder.fit_transform(y_iris)\n",
    "\n",
    "X_train_i, X_test_i, y_train_i, y_test_i = train_test_split(X_iris, y_iris, test_size=0.2, random_state=42)\n",
    "nb_iris = GaussianNB()\n",
    "nb_iris.fit(X_train_i, y_train_i)\n",
    "y_pred_nb_i = nb_iris.predict(X_test_i)\n",
    "print(accuracy_score(y_test_i,y_pred_nb_i))\n",
    "dt_iris = DecisionTreeClassifier(random_state=42)\n",
    "dt_iris.fit(X_train_i, y_train_i)\n",
    "y_pred_dt_i = dt_iris.predict(X_test_i)\n",
    "print(accuracy_score(y_test_i,y_pred_dt_i))"
   ]
  },
  {
   "cell_type": "code",
   "execution_count": null,
   "metadata": {},
   "outputs": [],
   "source": []
  }
 ],
 "metadata": {
  "kernelspec": {
   "display_name": "Python 3",
   "language": "python",
   "name": "python3"
  },
  "language_info": {
   "codemirror_mode": {
    "name": "ipython",
    "version": 3
   },
   "file_extension": ".py",
   "mimetype": "text/x-python",
   "name": "python",
   "nbconvert_exporter": "python",
   "pygments_lexer": "ipython3",
   "version": "3.12.4"
  }
 },
 "nbformat": 4,
 "nbformat_minor": 2
}
