{
 "cells": [
  {
   "cell_type": "code",
   "execution_count": 1,
   "metadata": {},
   "outputs": [
    {
     "name": "stdout",
     "output_type": "stream",
     "text": [
      "['sad' 'sad' 'relax' 'sad' 'relax' 'relax' 'angry' 'angry' 'sad' 'happy'\n",
      " 'sad' 'angry' 'sad' 'relax' 'happy' 'relax' 'angry' 'angry' 'sad' 'sad'\n",
      " 'angry' 'angry' 'angry' 'sad' 'relax' 'angry' 'happy' 'sad' 'angry'\n",
      " 'happy' 'angry' 'happy' 'relax' 'relax' 'sad' 'relax' 'happy' 'angry'\n",
      " 'happy' 'happy' 'angry' 'relax' 'relax' 'relax' 'sad' 'angry' 'happy'\n",
      " 'happy' 'sad' 'happy' 'relax' 'angry' 'sad' 'relax' 'angry' 'relax' 'sad'\n",
      " 'happy' 'angry' 'happy' 'happy' 'sad' 'happy' 'sad' 'happy' 'relax'\n",
      " 'angry' 'sad' 'happy' 'relax' 'relax' 'happy' 'angry' 'relax' 'angry'\n",
      " 'sad' 'happy' 'angry' 'happy' 'relax']\n"
     ]
    }
   ],
   "source": [
    "#a\n",
    "from sklearn.model_selection import train_test_split\n",
    "from sklearn.preprocessing import StandardScaler\n",
    "from sklearn.preprocessing import LabelEncoder\n",
    "import pandas as pd\n",
    "import numpy as np\n",
    "from sklearn.svm import SVC\n",
    "df=pd.read_csv(\"music.csv\")\n",
    "X=df.drop(columns=\"Class\")\n",
    "encoder=LabelEncoder()\n",
    "y_=df['Class']\n",
    "y=encoder.fit_transform(y_)\n",
    "X_train,X_test,y_train,y_test=train_test_split(X,y,test_size=0.2,random_state=42)\n",
    "scaler=StandardScaler()\n",
    "X_train=scaler.fit_transform(X_train)\n",
    "X_test=scaler.transform(X_test)#important to standardize or else the model will take a long time to train(svm is sensitive to scale)\n",
    "\n",
    "lsvm=SVC(kernel='linear')\n",
    "lsvm.fit(X_train,y_train)\n",
    "pred1=lsvm.predict(X_test)\n",
    "pred1decoded=encoder.inverse_transform(pred1)\n",
    "print(pred1decoded)"
   ]
  },
  {
   "cell_type": "code",
   "execution_count": 2,
   "metadata": {},
   "outputs": [
    {
     "name": "stdout",
     "output_type": "stream",
     "text": [
      "0.7375\n",
      "0.7375\n",
      "0.7375\n",
      "0.7375\n"
     ]
    },
    {
     "data": {
      "image/png": "[encoded data removed]",
      "text/plain": [
       "<Figure size 640x480 with 2 Axes>"
      ]
     },
     "metadata": {},
     "output_type": "display_data"
    }
   ],
   "source": [
    "#b\n",
    "from sklearn.metrics import accuracy_score,precision_score,f1_score,recall_score,confusion_matrix,ConfusionMatrixDisplay\n",
    "import matplotlib.pyplot as plt\n",
    "acc=accuracy_score(y_test,pred1)\n",
    "prec=precision_score(y_test,pred1,average='micro')\n",
    "f1=f1_score(y_test,pred1,average='micro')\n",
    "rec=recall_score(y_test,pred1,average='micro')\n",
    "cm=confusion_matrix(y_test,pred1)\n",
    "mat=ConfusionMatrixDisplay(cm)\n",
    "mat.plot(cmap='Blues')\n",
    "\n",
    "print(acc)\n",
    "print(prec)\n",
    "print(f1)\n",
    "print(rec)"
   ]
  },
  {
   "cell_type": "code",
   "execution_count": 3,
   "metadata": {},
   "outputs": [
    {
     "name": "stdout",
     "output_type": "stream",
     "text": [
      "0.3625\n",
      "accuracy degraded as svm works better with standardized data instead of normalized one\n"
     ]
    }
   ],
   "source": [
    "#c\n",
    "from sklearn.preprocessing import MinMaxScaler\n",
    "nscaler=MinMaxScaler()\n",
    "X_train=nscaler.fit_transform(X_train)\n",
    "X_test=nscaler.transform(X_test)\n",
    "\n",
    "lsvm2=SVC(kernel='linear')\n",
    "lsvm2.fit(X_train,y_train)\n",
    "pred2=lsvm.predict(X_test)\n",
    "acc2=accuracy_score(y_test,pred2)\n",
    "print(acc2)\n",
    "print(\"accuracy degraded as svm works better with standardized data instead of normalized one\")"
   ]
  },
  {
   "cell_type": "code",
   "execution_count": 5,
   "metadata": {},
   "outputs": [
    {
     "name": "stdout",
     "output_type": "stream",
     "text": [
      "accuracy for non linear svm using poly kernel: 0.65\n",
      "accuracy for non linear svm using rbf kernel: 0.7375\n"
     ]
    }
   ],
   "source": [
    "#d\n",
    "X_train=nscaler.inverse_transform(X_train)\n",
    "X_test=nscaler.inverse_transform(X_test)\n",
    "nlsvm1=SVC(kernel=\"poly\")\n",
    "nlsvm1.fit(X_train,y_train)\n",
    "pred3=nlsvm1.predict(X_test)\n",
    "accnl1=accuracy_score(y_test,pred3)\n",
    "\n",
    "nlsvm2=SVC(kernel=\"rbf\")\n",
    "nlsvm2.fit(X_train,y_train)\n",
    "pred4=nlsvm2.predict(X_test)\n",
    "accnl2=accuracy_score(y_test,pred4)\n",
    "\n",
    "print(\"accuracy for non linear svm using poly kernel:\",accnl1)\n",
    "print(\"accuracy for non linear svm using rbf kernel:\",accnl2)"
   ]
  },
  {
   "cell_type": "code",
   "execution_count": null,
   "metadata": {},
   "outputs": [],
   "source": []
  }
 ],
 "metadata": {
  "kernelspec": {
   "display_name": "Python 3",
   "language": "python",
   "name": "python3"
  },
  "language_info": {
   "codemirror_mode": {
    "name": "ipython",
    "version": 3
   },
   "file_extension": ".py",
   "mimetype": "text/x-python",
   "name": "python",
   "nbconvert_exporter": "python",
   "pygments_lexer": "ipython3",
   "version": "3.12.4"
  }
 },
 "nbformat": 4,
 "nbformat_minor": 2
}
