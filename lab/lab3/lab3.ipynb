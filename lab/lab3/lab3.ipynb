{
  "cells": [
    {
      "cell_type": "markdown",
      "metadata": {
        "colab_type": "text",
        "id": "view-in-github"
      },
      "source": [
        "<a href=\"https://colab.research.google.com/github/GGGoradia/Machine-learning-lab/blob/main/lab/lab3.ipynb\" target=\"_parent\"><img src=\"https://colab.research.google.com/assets/colab-badge.svg\" alt=\"Open In Colab\"/></a>"
      ]
    },
    {
      "cell_type": "code",
      "execution_count": 41,
      "metadata": {
        "colab": {
          "base_uri": "https://localhost:8080/"
        },
        "id": "mOmCfyUN8a0t",
        "outputId": "c545d18b-ff9f-4fe8-db56-af297326b14c"
      },
      "outputs": [
        {
          "name": "stdout",
          "output_type": "stream",
          "text": [
            "<bound method Kernel.raw_input of <ipykernel.ipkernel.IPythonKernel object at 0x0000027B3162D700>>\n",
            "0    0\n",
            "1    1\n",
            "2    0\n",
            "3    1\n",
            "4    0\n",
            "5    1\n",
            "Name: Class, dtype: int64\n"
          ]
        }
      ],
      "source": [
        "#1a\n",
        "import numpy as np\n",
        "import pandas as pd\n",
        "df=pd.read_csv('Customer_buy.csv')\n",
        "inputs=np.hstack((df.iloc[:,:-1],np.ones((len(df),1))))\n",
        "outputs=df.iloc[:,-1]\n",
        "print(input)\n",
        "print(outputs)\n",
        "w=np.zeros(3)"
      ]
    },
    {
      "cell_type": "code",
      "execution_count": 42,
      "metadata": {
        "id": "f_qVAUhjHePC"
      },
      "outputs": [],
      "source": [
        "def sigmoid(x):\n",
        "  return 1/(1+np.exp(-1*x))"
      ]
    },
    {
      "cell_type": "code",
      "execution_count": 43,
      "metadata": {
        "id": "LQlrKpmQJRdb"
      },
      "outputs": [],
      "source": [
        "def infer(w,x):\n",
        "  return sigmoid(np.dot(w,x))\n",
        "def epoch(w,inputs,outputs):\n",
        "  s=np.zeros(3)\n",
        "  for i in range (0,len(inputs)):\n",
        "    s+=(infer(w,inputs[i])-outputs[i])*inputs[i]\n",
        "  return s"
      ]
    },
    {
      "cell_type": "code",
      "execution_count": 44,
      "metadata": {
        "colab": {
          "base_uri": "https://localhost:8080/"
        },
        "id": "TcRYqzFBLjaY",
        "outputId": "78384762-91ab-45a5-b5c6-fe7645e88b0b"
      },
      "outputs": [
        {
          "data": {
            "text/plain": [
              "array([-0.15568056, -0.2004156 , -0.04923951])"
            ]
          },
          "execution_count": 44,
          "metadata": {},
          "output_type": "execute_result"
        }
      ],
      "source": [
        "for _ in range (0,2):\n",
        "  w-=0.1*epoch(w,inputs,outputs)/len(inputs)\n",
        "w"
      ]
    },
    {
      "cell_type": "code",
      "execution_count": 45,
      "metadata": {
        "colab": {
          "base_uri": "https://localhost:8080/"
        },
        "id": "Wz1AwwYCN4A-",
        "outputId": "627a8887-cbb8-4403-d358-4df1fa7c1179"
      },
      "outputs": [
        {
          "data": {
            "text/plain": [
              "np.float64(0.0010688416008273124)"
            ]
          },
          "execution_count": 45,
          "metadata": {},
          "output_type": "execute_result"
        }
      ],
      "source": [
        "infer(w,np.array([5,30,1]))\n",
        "#below 0.5 considered as 0\n",
        "#>=0.5 considered as 1"
      ]
    },
    {
      "cell_type": "code",
      "execution_count": 46,
      "metadata": {
        "colab": {
          "base_uri": "https://localhost:8080/"
        },
        "id": "PMuj8a_aODed",
        "outputId": "ca7ba210-62d8-44e8-9f9d-4acfe8b6f0e7"
      },
      "outputs": [
        {
          "name": "stdout",
          "output_type": "stream",
          "text": [
            "   No_emails_sent  Discount_offered\n",
            "5            1.00              0.75\n",
            "2            0.75              0.00\n",
            "4            0.50              0.25\n",
            "3            0.75              1.00\n",
            "5    1.0\n",
            "2    0.0\n",
            "4    0.0\n",
            "3    1.0\n",
            "Name: Class, dtype: float64\n",
            "   No_emails_sent  Discount_offered\n",
            "0            0.00              0.00\n",
            "1            0.25              0.75\n",
            "0    0.0\n",
            "1    1.0\n",
            "Name: Class, dtype: float64\n"
          ]
        }
      ],
      "source": [
        "#2\n",
        "from sklearn.preprocessing import MinMaxScaler\n",
        "from sklearn.linear_model import LogisticRegression\n",
        "from sklearn.model_selection import train_test_split\n",
        "#normalization\n",
        "scaler=MinMaxScaler()\n",
        "df=pd.DataFrame(scaler.fit_transform(df),columns=df.columns)\n",
        "#splitting into train test split\n",
        "X=df.drop(columns='Class')\n",
        "y=df['Class']\n",
        "X_train,X_test,y_train,y_test=train_test_split(X,y,test_size=0.2,random_state=42)\n",
        "print(X_train)\n",
        "print(y_train)\n",
        "print(X_test)\n",
        "print(y_test)"
      ]
    },
    {
      "cell_type": "code",
      "execution_count": 47,
      "metadata": {
        "colab": {
          "base_uri": "https://localhost:8080/"
        },
        "id": "8NfWM4Xllr98",
        "outputId": "68cc3845-c0c1-4bf8-f252-bc95b5aa43d6"
      },
      "outputs": [
        {
          "name": "stdout",
          "output_type": "stream",
          "text": [
            "[0. 1.]\n"
          ]
        }
      ],
      "source": [
        "model=LogisticRegression()\n",
        "model.fit(X_train,y_train)\n",
        "print(model.predict(X_test))"
      ]
    },
    {
      "cell_type": "code",
      "execution_count": 48,
      "metadata": {
        "colab": {
          "base_uri": "https://localhost:8080/",
          "height": 439
        },
        "id": "-I9yWrCSn7RR",
        "outputId": "6e75ce7d-c7c5-45e9-b795-62fbb8196725"
      },
      "outputs": [
        {
          "data": {
            "text/plain": [
              "Age               0\n",
              "Sex               0\n",
              "ChestPainType     0\n",
              "RestingBP         0\n",
              "Cholesterol       0\n",
              "FastingBS         0\n",
              "RestingECG        0\n",
              "MaxHR             0\n",
              "ExerciseAngina    0\n",
              "Oldpeak           0\n",
              "ST_Slope          0\n",
              "HeartDisease      0\n",
              "dtype: int64"
            ]
          },
          "execution_count": 48,
          "metadata": {},
          "output_type": "execute_result"
        }
      ],
      "source": [
        "#3\n",
        "from sklearn.preprocessing import LabelEncoder\n",
        "heart=pd.read_csv('heart.csv')\n",
        "encoder=LabelEncoder()\n",
        "for i in heart.columns:\n",
        "  if heart[i].dtype=='object':\n",
        "    heart[i]=encoder.fit_transform(heart[i])\n",
        "heart.isnull().sum()\n",
        "#since no null values we move to next step  "
      ]
    },
    {
      "cell_type": "code",
      "execution_count": 49,
      "metadata": {},
      "outputs": [],
      "source": [
        "#train test split\n",
        "X=heart.drop(columns='HeartDisease')\n",
        "y=heart['HeartDisease']\n",
        "X_train,X_test,y_train,y_test=train_test_split(X,y,random_state=42,test_size=0.2)"
      ]
    },
    {
      "cell_type": "code",
      "execution_count": 52,
      "metadata": {},
      "outputs": [
        {
          "name": "stderr",
          "output_type": "stream",
          "text": [
            "c:\\Users\\devgo\\AppData\\Local\\Programs\\Python\\Python312\\Lib\\site-packages\\sklearn\\linear_model\\_logistic.py:465: ConvergenceWarning: lbfgs failed to converge (status=1):\n",
            "STOP: TOTAL NO. OF ITERATIONS REACHED LIMIT.\n",
            "\n",
            "Increase the number of iterations (max_iter) or scale the data as shown in:\n",
            "    https://scikit-learn.org/stable/modules/preprocessing.html\n",
            "Please also refer to the documentation for alternative solver options:\n",
            "    https://scikit-learn.org/stable/modules/linear_model.html#logistic-regression\n",
            "  n_iter_i = _check_optimize_result(\n"
          ]
        }
      ],
      "source": [
        "hmodel=LogisticRegression()\n",
        "hmodel.fit(X_train,y_train)\n",
        "y_pred=hmodel.predict(X_test)\n"
      ]
    },
    {
      "cell_type": "code",
      "execution_count": 54,
      "metadata": {},
      "outputs": [
        {
          "name": "stdout",
          "output_type": "stream",
          "text": [
            "0.842391304347826\n"
          ]
        }
      ],
      "source": [
        "#accuracy of our model\n",
        "from sklearn.metrics import accuracy_score\n",
        "score=accuracy_score(y_test,y_pred)\n",
        "print(score)"
      ]
    }
  ],
  "metadata": {
    "colab": {
      "authorship_tag": "ABX9TyNEo/4ojcXIY0KhDiqrBDQu",
      "include_colab_link": true,
      "provenance": []
    },
    "kernelspec": {
      "display_name": "Python 3",
      "name": "python3"
    },
    "language_info": {
      "codemirror_mode": {
        "name": "ipython",
        "version": 3
      },
      "file_extension": ".py",
      "mimetype": "text/x-python",
      "name": "python",
      "nbconvert_exporter": "python",
      "pygments_lexer": "ipython3",
      "version": "3.12.4"
    }
  },
  "nbformat": 4,
  "nbformat_minor": 0
}
