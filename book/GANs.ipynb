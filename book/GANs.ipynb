{
 "cells": [
  {
   "cell_type": "code",
   "execution_count": null,
   "id": "76df1223",
   "metadata": {},
   "outputs": [],
   "source": [
    "from tensorflow.keras.layers import Input,Dense,Reshape,Flatten,LeakyReLU\n",
    "from tensorflow.keras.models import Sequential,Model\n",
    "\n",
    "def creategen():\n",
    "    model=Sequential()\n",
    "    model.add(Input(shape=(100,)))\n",
    "    model.add(Dense(256))\n",
    "    model.add(LeakyReLU(0.2))#instead of zero for negative values a small slope with constant of 0.2\n",
    "    model.add(Dense(512))\n",
    "    model.add(LeakyReLU(0.2))\n",
    "    model.add(Dense(1024))\n",
    "    model.add(LeakyReLU(0.2))\n",
    "    model.add(Dense(784,activation='tanh'))#used tanh so that it can match normalized values of pixels\n",
    "    model.add(Reshape((28,28,1)))#28x28 grayscale image\n",
    "    return model\n",
    "\n",
    "def createdis():\n",
    "    model=Sequential()\n",
    "    model.add(Flatten(input_shape=(28,28,1)))\n",
    "    model.add(Dense(1024))\n",
    "    model.add(LeakyReLU(0.2))\n",
    "    model.add(Dense(512))\n",
    "    model.add(LeakyReLU(0.2))\n",
    "    model.add(Dense(256))\n",
    "    model.add(LeakyReLU(0.2))\n",
    "    model.add(Dense(1,activation=\"sigmoid\"))\n",
    "    return model\n",
    "\n",
    "def createGAN(dis,gen):\n",
    "    dis.trainable=False\n",
    "    ganinput=Input(shape=(100,))\n",
    "    x=gen(ganinput)\n",
    "    ganop=dis(x)#chaining layers\n",
    "    gan=Model(inputs=ganinput,outputs=ganop)\n",
    "    return gan\n",
    "gen=creategen()\n",
    "dis=createdis()\n",
    "\n",
    "gen.compile(optimizer='adam',loss='binary_crossentropy')\n",
    "dis.compile(optimizer='adam',loss='binary_crossentropy')\n",
    "gan=createGAN(dis,gen)\n",
    "gan.compile(optimizer='adam',loss='binary_crossentropy')#binary crossentropy is used for binary classification problems\n",
    "\n"
   ]
  },
  {
   "cell_type": "code",
   "execution_count": null,
   "id": "fcf6dae4",
   "metadata": {},
   "outputs": [],
   "source": []
  }
 ],
 "metadata": {
  "kernelspec": {
   "display_name": "py310",
   "language": "python",
   "name": "python3"
  },
  "language_info": {
   "codemirror_mode": {
    "name": "ipython",
    "version": 3
   },
   "file_extension": ".py",
   "mimetype": "text/x-python",
   "name": "python",
   "nbconvert_exporter": "python",
   "pygments_lexer": "ipython3",
   "version": "3.10.18"
  }
 },
 "nbformat": 4,
 "nbformat_minor": 5
}
