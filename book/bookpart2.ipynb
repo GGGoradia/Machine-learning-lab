{
 "cells": [
  {
   "cell_type": "markdown",
   "metadata": {},
   "source": [
    "Deep learning with Pytorch "
   ]
  },
  {
   "cell_type": "code",
   "execution_count": 33,
   "metadata": {},
   "outputs": [
    {
     "name": "stdout",
     "output_type": "stream",
     "text": [
      "tensor([1, 2, 3])\n"
     ]
    }
   ],
   "source": [
    "#creating a tensor using pytorch\n",
    "import torch\n",
    "x=torch.tensor([1,2,3])\n",
    "print(x)\n"
   ]
  },
  {
   "cell_type": "code",
   "execution_count": 34,
   "metadata": {},
   "outputs": [
    {
     "name": "stdout",
     "output_type": "stream",
     "text": [
      "2.6.0+cpu\n"
     ]
    }
   ],
   "source": [
    "import torch\n",
    "print(torch.__version__)"
   ]
  },
  {
   "cell_type": "code",
   "execution_count": 35,
   "metadata": {},
   "outputs": [],
   "source": [
    "#MLP with one hidden layer\n",
    "import torch.nn as nn\n",
    "import torch.nn.functional as F\n",
    "class MLP(nn.Module):\n",
    "    def __init__(self,input_size,hidden_size,num_classes):\n",
    "        super(MLP,self).__init__()\n",
    "        self.fc1=nn.Linear(input_size,hidden_size)#input layer to hidden layer\n",
    "        self.fc2=nn.Linear(hidden_size,num_classes)#hidden layer to op\n",
    "        \n",
    "    def forward(self,x):\n",
    "        x=F.relu(self.fc1(x))#passes the input x through the first layer and applies relu function to its output\n",
    "        x=self.fc2(x)#passes the input throught the second layer \n",
    "        return x\n",
    "    "
   ]
  },
  {
   "cell_type": "code",
   "execution_count": 36,
   "metadata": {},
   "outputs": [],
   "source": [
    "import torchvision\n",
    "import torchvision.transforms as transform\n",
    "from torch.utils.data import DataLoader\n",
    "#define the transformation that you need to do to the image before passing it to the model\n",
    "transform=transform.Compose([\n",
    "    transform.ToTensor(),#converts image to tensors\n",
    "    transform.Normalize((0.5,),(0.5))#sets mean and std to 0.5 each and normalizes the data\n",
    "])\n",
    "\n",
    "#defining the dataset \n",
    "train_dataset=torchvision.datasets.MNIST(\n",
    "    root='./data',#sets location\n",
    "    train=True,#loads training set\n",
    "    transform=transform,#applies the above given transform\n",
    "    download=True#downloads if not availaible\n",
    ")\n",
    "\n",
    "train_loader=DataLoader(\n",
    "    dataset=train_dataset,#uses the above specified training dataset\n",
    "    batch_size=64,#loads data in batches\n",
    "    shuffle=True,#shuffles the data\n",
    "    num_workers=2#cpu threads 2\n",
    ")"
   ]
  },
  {
   "cell_type": "code",
   "execution_count": null,
   "metadata": {},
   "outputs": [
    {
     "name": "stdout",
     "output_type": "stream",
     "text": [
      "Epoch[1/2],step[938/938],loss:[0.5646378397941589]\n",
      "Epoch[2/2],step[938/938],loss:[0.28149378299713135]\n"
     ]
    }
   ],
   "source": [
    "model=MLP(input_size=784,hidden_size=500,num_classes=10)#define the model\n",
    "crit=nn.CrossEntropyLoss()\n",
    "optimizer=torch.optim.SGD(model.parameters(),lr=0.01)#optimizer with learning rate\n",
    "\n",
    "num_epochs=2#since it takes a while to run\n",
    "for epoch in range(num_epochs):\n",
    "    for i,(images,labels) in enumerate(train_loader):\n",
    "        images=images.reshape(-1,28*28)\n",
    "        \n",
    "        #forward\n",
    "        outputs=model(images)\n",
    "        loss=crit(outputs,labels)\n",
    "        \n",
    "        #backward\n",
    "        optimizer.zero_grad()#all gradients set to zero\n",
    "        loss.backward()#gradients using back propogation\n",
    "        optimizer.step()\n",
    "    \n",
    "    print(f'Epoch[{epoch+1}/{num_epochs}],step[{i+1}/{len(train_loader)}],loss:[{loss.item()}]')\n",
    "        \n",
    "        "
   ]
  },
  {
   "cell_type": "code",
   "execution_count": null,
   "metadata": {},
   "outputs": [],
   "source": []
  }
 ],
 "metadata": {
  "kernelspec": {
   "display_name": "Python 3",
   "language": "python",
   "name": "python3"
  },
  "language_info": {
   "codemirror_mode": {
    "name": "ipython",
    "version": 3
   },
   "file_extension": ".py",
   "mimetype": "text/x-python",
   "name": "python",
   "nbconvert_exporter": "python",
   "pygments_lexer": "ipython3",
   "version": "3.12.4"
  }
 },
 "nbformat": 4,
 "nbformat_minor": 2
}
