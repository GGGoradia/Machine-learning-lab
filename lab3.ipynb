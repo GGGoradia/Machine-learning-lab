{
  "nbformat": 4,
  "nbformat_minor": 0,
  "metadata": {
    "colab": {
      "provenance": [],
      "authorship_tag": "ABX9TyNWCANLkXzU0P55YW7QCoTf",
      "include_colab_link": true
    },
    "kernelspec": {
      "name": "python3",
      "display_name": "Python 3"
    },
    "language_info": {
      "name": "python"
    }
  },
  "cells": [
    {
      "cell_type": "markdown",
      "metadata": {
        "id": "view-in-github",
        "colab_type": "text"
      },
      "source": [
        "<a href=\"https://colab.research.google.com/github/GGGoradia/Machine-learning-lab/blob/main/lab3.ipynb\" target=\"_parent\"><img src=\"https://colab.research.google.com/assets/colab-badge.svg\" alt=\"Open In Colab\"/></a>"
      ]
    },
    {
      "cell_type": "code",
      "source": [
        "import numpy as np\n",
        "import pandas as pd\n",
        "df=pd.read_csv('Customer_buy.csv')\n",
        "inputs=np.hstack((df.iloc[:,:-1],np.ones((len(df),1))))\n",
        "outputs=df.iloc[:,-1]\n",
        "print(input)\n",
        "print(outputs)\n",
        "w=np.zeros(3)"
      ],
      "metadata": {
        "colab": {
          "base_uri": "https://localhost:8080/"
        },
        "id": "mOmCfyUN8a0t",
        "outputId": "390fbef3-9195-41a4-a4a4-9e5bb59fcc66"
      },
      "execution_count": 47,
      "outputs": [
        {
          "output_type": "stream",
          "name": "stdout",
          "text": [
            "[[ 2. 10.  1.]\n",
            " [ 3. 25.  1.]\n",
            " [ 5. 10.  1.]\n",
            " [ 5. 30.  1.]\n",
            " [ 4. 15.  1.]\n",
            " [ 6. 25.  1.]]\n",
            "0    0\n",
            "1    1\n",
            "2    0\n",
            "3    1\n",
            "4    0\n",
            "5    1\n",
            "Name: Class, dtype: int64\n"
          ]
        }
      ]
    },
    {
      "cell_type": "code",
      "source": [
        "def sigmoid(x):\n",
        "  return 1/(1+np.exp(-1*x))"
      ],
      "metadata": {
        "id": "f_qVAUhjHePC"
      },
      "execution_count": 48,
      "outputs": []
    },
    {
      "cell_type": "code",
      "source": [
        "def infer(w,x):\n",
        "  return sigmoid(np.dot(w,x))\n",
        "def epoch(w,inputs,outputs):\n",
        "  s=np.zeros(3)\n",
        "  for i in range (0,len(inputs)):\n",
        "    s+=(infer(w,inputs[i])-outputs[i])*inputs[i]\n",
        "  return s"
      ],
      "metadata": {
        "id": "LQlrKpmQJRdb"
      },
      "execution_count": 49,
      "outputs": []
    },
    {
      "cell_type": "code",
      "source": [
        "for _ in range (0,2):\n",
        "  w-=0.1*epoch(w,inputs,outputs)/len(inputs)\n",
        "w"
      ],
      "metadata": {
        "id": "TcRYqzFBLjaY",
        "outputId": "fdef9ede-7b5a-47c3-83c5-9b941e23bdff",
        "colab": {
          "base_uri": "https://localhost:8080/"
        }
      },
      "execution_count": 52,
      "outputs": [
        {
          "output_type": "execute_result",
          "data": {
            "text/plain": [
              "array([-0.11535733,  0.51661649, -0.052134  ])"
            ]
          },
          "metadata": {},
          "execution_count": 52
        }
      ]
    },
    {
      "cell_type": "code",
      "source": [
        "infer(w,np.array([5,30,1]))"
      ],
      "metadata": {
        "id": "Wz1AwwYCN4A-",
        "outputId": "21eb89dd-03db-4617-b7a8-853f3d9c0f73",
        "colab": {
          "base_uri": "https://localhost:8080/"
        }
      },
      "execution_count": 53,
      "outputs": [
        {
          "output_type": "execute_result",
          "data": {
            "text/plain": [
              "0.999999651481495"
            ]
          },
          "metadata": {},
          "execution_count": 53
        }
      ]
    },
    {
      "cell_type": "code",
      "source": [],
      "metadata": {
        "id": "PMuj8a_aODed"
      },
      "execution_count": null,
      "outputs": []
    }
  ]
}